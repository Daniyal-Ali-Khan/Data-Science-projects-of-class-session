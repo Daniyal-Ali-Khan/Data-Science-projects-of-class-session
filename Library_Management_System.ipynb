{
  "nbformat": 4,
  "nbformat_minor": 0,
  "metadata": {
    "colab": {
      "provenance": []
    },
    "kernelspec": {
      "name": "python3",
      "display_name": "Python 3"
    },
    "language_info": {
      "name": "python"
    }
  },
  "cells": [
    {
      "cell_type": "code",
      "source": [
        "import sqlite3\n",
        "\n",
        "# Initialize SQLite database and create necessary tables\n",
        "def initialize_database():\n",
        "    conn = sqlite3.connect('library.db')\n",
        "    cursor = conn.cursor()\n",
        "\n",
        "    # Create Books table\n",
        "    cursor.execute('''CREATE TABLE IF NOT EXISTS Books (\n",
        "                        id INTEGER PRIMARY KEY,\n",
        "                        title TEXT,\n",
        "                        author TEXT,\n",
        "                        subject TEXT,\n",
        "                        year INTEGER\n",
        "                    )''')\n",
        "\n",
        "    # List of books to add\n",
        "    books = [\n",
        "        ('Chemistry', 'John Smith', 'Science', 2020),\n",
        "        ('Physics', 'Alice Johnson', 'Science', 2019),\n",
        "        ('Maths', 'David Brown', 'Science', 2018),\n",
        "        ('History', 'Emily White', 'Humanities', 2017),\n",
        "        ('Commerce', 'Michael Davis', 'Commerce', 2016),\n",
        "        ('Marketing', 'Sarah Clark', 'Business', 2015),\n",
        "        ('English', 'Jennifer Lee', 'Language', 2014),\n",
        "        ('Philosophy', 'Robert Green', 'Philosophy', 2013),\n",
        "        ('Biology', 'Jessica Taylor', 'Science', 2012),\n",
        "        ('Botany', 'Daniel Wilson', 'Science', 2011),\n",
        "        ('Computer Science', 'William Turner', 'Technology', 2010),\n",
        "        ('Artificial Intelligence', 'Sophia Martinez', 'Technology', 2009),\n",
        "        ('Data Science', 'Ethan Moore', 'Technology', 2008),\n",
        "        ('Neural Network', 'Olivia Anderson', 'Technology', 2007),\n",
        "        ('Deep Learning', 'Noah Hall', 'Technology', 2006),\n",
        "        ('Machine Learning', 'Emma Thomas', 'Technology', 2005),\n",
        "        ('Data Analysis', 'James Wilson', 'Technology', 2004),\n",
        "        ('Big Data Tools', 'Ava Martinez', 'Technology', 2003),\n",
        "        ('Python', 'Liam Clark', 'Programming', 2002),\n",
        "        ('HTML', 'Charlotte Brown', 'Programming', 2001),\n",
        "        ('JAVA', 'Lucas Johnson', 'Programming', 2000)\n",
        "    ]\n",
        "\n",
        "    # Insert books into the table\n",
        "    cursor.executemany('INSERT INTO Books (title, author, subject, year) VALUES (?, ?, ?, ?)', books)\n",
        "\n",
        "    # Commit changes and close connection\n",
        "    conn.commit()\n",
        "    conn.close()\n",
        "\n",
        "# Search for books in the database\n",
        "def search_books(query):\n",
        "    conn = sqlite3.connect('library.db')\n",
        "    cursor = conn.cursor()\n",
        "\n",
        "    cursor.execute('''SELECT * FROM Books WHERE title LIKE ? OR author LIKE ? OR subject LIKE ?''',\n",
        "                   ('%'+query+'%', '%'+query+'%', '%'+query+'%'))\n",
        "    books = cursor.fetchall()\n",
        "    conn.close()\n",
        "\n",
        "    return books\n",
        "\n",
        "# Create GUI using Matplotlib for visualization\n",
        "def create_gui():\n",
        "    def search(query):\n",
        "        books = search_books(query)\n",
        "        if not books:\n",
        "            print('No books found.')\n",
        "        else:\n",
        "            for book in books:\n",
        "                print(f\"{book[1]} by {book[2]} ({book[3]}, {book[4]})\")\n",
        "\n",
        "    query = input('Enter search query: ')\n",
        "    search(query)\n",
        "\n",
        "# Main function to initialize database and create GUI\n",
        "def main():\n",
        "    initialize_database()\n",
        "    create_gui()\n",
        "\n",
        "# Run the application\n",
        "if __name__ == \"__main__\":\n",
        "    main()"
      ],
      "metadata": {
        "colab": {
          "base_uri": "https://localhost:8080/"
        },
        "id": "et0LnRVIRyA1",
        "outputId": "05c94180-813f-4f1a-adcb-05f242bbd00b"
      },
      "execution_count": 8,
      "outputs": [
        {
          "output_type": "stream",
          "name": "stdout",
          "text": [
            "Enter search query: database management system\n",
            "No books found.\n"
          ]
        }
      ]
    },
    {
      "cell_type": "code",
      "source": [],
      "metadata": {
        "id": "yyBgYRCKUTUf"
      },
      "execution_count": null,
      "outputs": []
    }
  ]
}