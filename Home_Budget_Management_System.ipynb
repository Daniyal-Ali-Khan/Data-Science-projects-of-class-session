{
  "nbformat": 4,
  "nbformat_minor": 0,
  "metadata": {
    "colab": {
      "provenance": []
    },
    "kernelspec": {
      "name": "python3",
      "display_name": "Python 3"
    },
    "language_info": {
      "name": "python"
    }
  },
  "cells": [
    {
      "cell_type": "code",
      "source": [
        "total_revenue = 40000\n",
        "grocery_prices = {\n",
        "    'Toothpaste': 50,\n",
        "    'Bakery and Bread': 1000,\n",
        "    'Meat': 100,\n",
        "    'Seafood': 200,\n",
        "    'Pasta': 50,\n",
        "    'Rice': 150,\n",
        "    'Oils': 300,\n",
        "    'Sauces': 60,\n",
        "    'Salad Dressings': 1000,\n",
        "    'Condiments': 600,\n",
        "    'Cereals': 90,\n",
        "    'Breakfast Foods': 1000,\n",
        "    'Soups': 400,\n",
        "    'Canned Goods': 700,\n",
        "    'Frozen Foods': 1000,\n",
        "    'Dairy': 2000,\n",
        "    'Cheese': 150,\n",
        "    'Eggs': 60\n",
        "}\n",
        "\n",
        "def buy_item(item_name):\n",
        "    global total_revenue\n",
        "    if item_name in grocery_prices:\n",
        "        item_price = grocery_prices[item_name]\n",
        "        if total_revenue >= item_price:\n",
        "            total_revenue -= item_price\n",
        "            print(f'You bought {item_name} for ${item_price}. Remaining budget: ${total_revenue}')\n",
        "        else:\n",
        "            print('Insufficient funds.')\n",
        "    else:\n",
        "        print('Invalid item.')\n",
        "\n",
        "while total_revenue > 0:\n",
        "    item_name = input('Enter item name (or \"exit\" to quit): ')\n",
        "    if item_name.lower() == 'exit':\n",
        "        break\n",
        "    buy_item(item_name)"
      ],
      "metadata": {
        "colab": {
          "base_uri": "https://localhost:8080/"
        },
        "id": "AiUlNqicDFM7",
        "outputId": "a8989f5c-3bcc-4303-bdbc-f25e38f4bbbd"
      },
      "execution_count": null,
      "outputs": [
        {
          "output_type": "stream",
          "name": "stdout",
          "text": [
            "Enter item name (or \"exit\" to quit): Bakery and Bread\n",
            "You bought Bakery and Bread for $1000. Remaining budget: $39000\n",
            "Enter item name (or \"exit\" to quit): Eggs\n",
            "You bought Eggs for $60. Remaining budget: $38940\n"
          ]
        }
      ]
    },
    {
      "cell_type": "code",
      "source": [],
      "metadata": {
        "id": "O1NBZsqsDnU-"
      },
      "execution_count": null,
      "outputs": []
    }
  ]
}